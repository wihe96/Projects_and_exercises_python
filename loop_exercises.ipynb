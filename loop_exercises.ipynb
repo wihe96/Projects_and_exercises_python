{
 "cells": [
  {
   "cell_type": "code",
   "execution_count": 1,
   "metadata": {},
   "outputs": [
    {
     "name": "stdout",
     "output_type": "stream",
     "text": [
      "koala\n",
      "cat\n",
      "fox\n",
      "panda\n",
      "chipmunk\n",
      "sloth\n",
      "penguin\n",
      "dolphin\n"
     ]
    }
   ],
   "source": [
    "#Write a for loop so that every item in the list is printed.\n",
    "lst=[\"koala\", \"cat\", \"fox\", \"panda\", \"chipmunk\", \"sloth\", \"penguin\", \"dolphin\"]\n",
    "\n",
    "for word in lst:\n",
    "    print(word)"
   ]
  },
  {
   "cell_type": "code",
   "execution_count": 2,
   "metadata": {},
   "outputs": [
    {
     "name": "stdout",
     "output_type": "stream",
     "text": [
      "Hello!, Sam\n",
      "Hello!, Lisa\n",
      "Hello!, Micha\n",
      "Hello!, Dave\n",
      "Hello!, Wyatt\n",
      "Hello!, Emma\n",
      "Hello!, Sage\n"
     ]
    }
   ],
   "source": [
    "#Write a for loop which print \"Hello!, \" plus each name in the list. i.e.: \"Hello!, Sam\"\n",
    "lst=[\"Sam\", \"Lisa\", \"Micha\", \"Dave\", \"Wyatt\", \"Emma\", \"Sage\"]\n",
    "#Type your code here.\n",
    "for word in lst:\n",
    "    print('Hello!,', word)"
   ]
  },
  {
   "cell_type": "code",
   "execution_count": 4,
   "metadata": {},
   "outputs": [
    {
     "name": "stdout",
     "output_type": "stream",
     "text": [
      "A\n",
      "n\n",
      "t\n",
      "a\n",
      "r\n",
      "c\n",
      "t\n",
      "i\n",
      "c\n",
      "a\n"
     ]
    }
   ],
   "source": [
    "#Write a for loop that iterates through a string and prints every letter.\n",
    "str=\"Antarctica\"\n",
    "#Type your code here.\n",
    "for i in str:\n",
    "    print(i)\n"
   ]
  },
  {
   "cell_type": "code",
   "execution_count": 5,
   "metadata": {},
   "outputs": [
    {
     "name": "stdout",
     "output_type": "stream",
     "text": [
      "12\n"
     ]
    }
   ],
   "source": [
    "#Type a code inside the for loop so that counter variable named c is increased by one each time loop iterates. Can you guess how many times it will add 1?.\n",
    "str=\"Civilization\"\n",
    "\n",
    "c=0\n",
    "for i in str:\n",
    "#Type your answer here.    \n",
    "    c +=1\n",
    "\n",
    "print(c)"
   ]
  },
  {
   "cell_type": "code",
   "execution_count": 6,
   "metadata": {},
   "outputs": [
    {
     "name": "stdout",
     "output_type": "stream",
     "text": [
      "['Dr.Phil', 'Dr.Oz', 'Dr.Seuss', 'Dr.Dre']\n"
     ]
    }
   ],
   "source": [
    "#Using a for loop and .append() method append each item with a Dr. prefix to the lst.\n",
    "lst1=[\"Phil\", \"Oz\", \"Seuss\", \"Dre\"]\n",
    "lst2=[]\n",
    "#Type your answer here.\n",
    "for name in lst1:\n",
    "    new_name = 'Dr.' + name\n",
    "    lst2.append(new_name)\n",
    "\n",
    "\n",
    "\n",
    "print(lst2)"
   ]
  },
  {
   "cell_type": "code",
   "execution_count": 7,
   "metadata": {},
   "outputs": [
    {
     "name": "stdout",
     "output_type": "stream",
     "text": [
      "[9, 49, 36, 64, 81, 121, 225, 625]\n"
     ]
    }
   ],
   "source": [
    "#Write a for loop which appends the square of each number to the new list.\n",
    "lst1=[3, 7, 6, 8, 9, 11, 15, 25]\n",
    "lst2=[]\n",
    "#Type your answer here.\n",
    "for num in lst1:\n",
    "    new_num = num*num\n",
    "    lst2.append(new_num)\n",
    "\n",
    "\n",
    "print(lst2)\n"
   ]
  },
  {
   "cell_type": "code",
   "execution_count": 8,
   "metadata": {},
   "outputs": [
    {
     "name": "stdout",
     "output_type": "stream",
     "text": [
      "[111, 32, 9, 85]\n"
     ]
    }
   ],
   "source": [
    "#Write a for loop using an if statement, that appends each number to the new list if it's positive.\n",
    "lst1=[111, 32, -9, -45, -17, 9, 85, -10]\n",
    "lst2=[]\n",
    "#Type your answer here.\n",
    "for num in lst1:\n",
    "    if num >0:\n",
    "        lst2.append(num)\n",
    "\n",
    "\n",
    "print(lst2)"
   ]
  },
  {
   "cell_type": "code",
   "execution_count": 11,
   "metadata": {},
   "outputs": [
    {
     "name": "stdout",
     "output_type": "stream",
     "text": [
      "[900, 100, 1300, 50, 2200, 400]\n"
     ]
    }
   ],
   "source": [
    "#Using for loop and if statement, append the value minus 1000 for each key to the new list if the value is above 1000. \n",
    "#i.e.: if the value is 1500, 500 should be added to the new list.\n",
    "dict={\"z1\":900, \"t1\": 1100, \"p1\": 2300, \"r1\": 1050, \"k1\": 3200, \"g1\": 400}\n",
    "dic_values = dict.values()\n",
    "lst=[]\n",
    "#Type your answer here.\n",
    "for i in dic_values:\n",
    "    if i > 1000:\n",
    "        i = i -1000\n",
    "    else: i_new = i\n",
    "    lst.append(i)\n",
    "\n",
    "\n",
    "print(lst)\n",
    "\n"
   ]
  },
  {
   "cell_type": "code",
   "execution_count": 12,
   "metadata": {},
   "outputs": [
    {
     "name": "stdout",
     "output_type": "stream",
     "text": [
      "[<class 'float'>, <class 'int'>, <class 'str'>, <class 'bool'>, <class 'list'>, <class 'dict'>]\n"
     ]
    }
   ],
   "source": [
    "#Write a for loop which appends the type of each element in the first list to the second list.\n",
    "lst1=[3.14, 66, \"Teddy Bear\", True, [], {}]\n",
    "lst2=[]\n",
    "#Type your answer here.\n",
    "for i in lst1:\n",
    "    lst2.append(type(i))\n",
    "\n",
    "\n",
    "print(lst2)\n"
   ]
  },
  {
   "cell_type": "code",
   "execution_count": 16,
   "metadata": {},
   "outputs": [
    {
     "name": "stdout",
     "output_type": "stream",
     "text": [
      "[1505, 1540, 1575, 1610, 1645, 1680, 1715, 1750, 1785, 1820, 1855, 1890, 1925, 1960, 1995, 2030, 2065, 2100, 2135, 2170, 2205, 2240, 2275, 2310, 2345, 2380, 2415, 2450, 2485, 2520, 2555, 2590, 2625, 2660, 2695]\n"
     ]
    }
   ],
   "source": [
    "#Write a Python program to find those numbers which are divisible by 7 and multiple of 5, between 1500 and 2700 (both included). \n",
    "lst = []\n",
    "for i in range(1500,2700):\n",
    "    if (i % 7 == 0) & (i % 5 == 0):\n",
    "        lst.append(i)\n",
    "print(lst)\n"
   ]
  },
  {
   "cell_type": "code",
   "execution_count": 25,
   "metadata": {},
   "outputs": [
    {
     "name": "stdout",
     "output_type": "stream",
     "text": [
      "The temperature in Fahrenheit is 93 degrees.\n"
     ]
    }
   ],
   "source": [
    "#Write a Python program to convert temperatures to and from celsius, fahrenheit.\n",
    "temp = input(\"Input the  temperature you like to convert? (e.g., 45F, 102C etc.) : \")\n",
    "degree = int(temp[:-1])\n",
    "i_convention = temp[-1]\n",
    "\n",
    "if i_convention.upper() == \"C\":\n",
    "  result = int(round((9 * degree) / 5 + 32))\n",
    "  o_convention = \"Fahrenheit\"\n",
    "elif i_convention.upper() == \"F\":\n",
    "  result = int(round((degree - 32) * 5 / 9))\n",
    "  o_convention = \"Celsius\"\n",
    "else:\n",
    "  print(\"Input proper convention.\")\n",
    "  quit()\n",
    "print(\"The temperature in\", o_convention, \"is\", result, \"degrees.\")\n"
   ]
  },
  {
   "cell_type": "code",
   "execution_count": 36,
   "metadata": {},
   "outputs": [
    {
     "name": "stdout",
     "output_type": "stream",
     "text": [
      "6\n",
      "3\n",
      "7\n",
      "2\n",
      "7\n",
      "2\n",
      "4\n",
      "2\n",
      "10\n",
      "2\n",
      "6\n",
      "2\n",
      "9\n",
      "2\n",
      "6\n",
      "2\n",
      "4\n",
      "2\n",
      "5\n",
      "2\n",
      "1\n",
      "2\n",
      "5\n",
      "2\n",
      "9\n",
      "2\n",
      "5\n",
      "2\n",
      "8\n",
      "2\n",
      "4\n",
      "2\n",
      "10\n",
      "2\n",
      "4\n",
      "2\n",
      "8\n",
      "2\n",
      "10\n",
      "2\n",
      "8\n",
      "2\n",
      "2\n",
      "2\n",
      "Well guessed!\n"
     ]
    }
   ],
   "source": [
    "#Write a Python program to guess a number between 1 to 9. Go to the editor\n",
    "#Note : User is prompted to enter a guess. If the user guesses wrong then the prompt appears again until the guess is correct, \n",
    "#on successful guess, user will get a \"Well guessed!\" message, and the program will exit.\n",
    "\n",
    "import random\n",
    "while True: \n",
    "    i = random.randint(1,10)\n",
    "    j = int(input('Input a number between 1 and 9:'))\n",
    "    print(i)\n",
    "    print(j)\n",
    "    if i == j:\n",
    "        print('Well guessed!')\n",
    "        break"
   ]
  },
  {
   "cell_type": "code",
   "execution_count": 62,
   "metadata": {},
   "outputs": [
    {
     "name": "stdout",
     "output_type": "stream",
     "text": [
      "kkol"
     ]
    }
   ],
   "source": [
    "#Write a Python program that accepts a word from the user and reverse it.\n",
    "\n",
    "word = input(\"Input a word to reverse: \")\n",
    "\n",
    "for char in range(len(word) - 1, -1, -1):\n",
    "  print(word[char], end ='')\n"
   ]
  },
  {
   "cell_type": "code",
   "execution_count": 72,
   "metadata": {},
   "outputs": [
    {
     "name": "stdout",
     "output_type": "stream",
     "text": [
      "Count of even numbers: 4 \\count of odd numbers: 5\n"
     ]
    }
   ],
   "source": [
    "#Write a Python program to count the number of even and odd numbers from a series of numbers.\n",
    "numbers = [1, 2, 3, 4, 5, 6, 7, 8, 9]\n",
    "\n",
    "even = 0\n",
    "odd = 0\n",
    "\n",
    "for i in numbers:\n",
    "    if i % 2 ==0:\n",
    "        even += 1\n",
    "    else: odd += 1\n",
    "print('Count of even numbers:', even, 'count of odd numbers:', odd)\n"
   ]
  },
  {
   "cell_type": "code",
   "execution_count": 73,
   "metadata": {},
   "outputs": [
    {
     "name": "stdout",
     "output_type": "stream",
     "text": [
      "1452 <class 'int'>\n",
      "11.23 <class 'float'>\n",
      "(1+2j) <class 'complex'>\n",
      "True <class 'bool'>\n",
      "w3resource <class 'str'>\n",
      "(0, -1) <class 'tuple'>\n",
      "[5, 12] <class 'list'>\n",
      "{'class': 'V', 'section': 'A'} <class 'dict'>\n"
     ]
    }
   ],
   "source": [
    "#Write a Python program that prints each item and its corresponding type from the following list.\n",
    "datalist = [1452, 11.23, 1+2j, True, 'w3resource', (0, -1), [5, 12], {\"class\":'V', \"section\":'A'}]\n",
    "for element in datalist:\n",
    "    print(element, type(element))"
   ]
  },
  {
   "cell_type": "code",
   "execution_count": 77,
   "metadata": {},
   "outputs": [
    {
     "name": "stdout",
     "output_type": "stream",
     "text": [
      "0\n",
      "1\n",
      "2\n",
      "4\n",
      "5\n"
     ]
    }
   ],
   "source": [
    "#Write a Python program that prints all the numbers from 0 to 6 except 3 and 6.\n",
    "for i in range(0,7):\n",
    "    if (i % 3 == 0) & (i != 0):\n",
    "        continue\n",
    "    print(i)"
   ]
  },
  {
   "cell_type": "code",
   "execution_count": 82,
   "metadata": {},
   "outputs": [
    {
     "name": "stdout",
     "output_type": "stream",
     "text": [
      "[0, 1, 1, 2, 3, 5, 8, 13, 21, 34]\n"
     ]
    }
   ],
   "source": [
    "#fibonacci sequence\n",
    "\n",
    "lst = [0,1]\n",
    "while True:\n",
    "    new_i = lst[-1]+lst[-2]\n",
    "    if new_i >50:\n",
    "        break\n",
    "    lst.append(new_i)\n",
    "print(lst)\n"
   ]
  },
  {
   "cell_type": "code",
   "execution_count": 5,
   "metadata": {},
   "outputs": [
    {
     "name": "stdout",
     "output_type": "stream",
     "text": [
      "['FizzBuzz', 1, 2, 'Fizz', 4, 'Buzz', 'Fizz', 7, 8, 'Fizz', 'Buzz', 11, 'Fizz', 13, 14, 'FizzBuzz', 16, 17, 'Fizz', 19, 'Buzz', 'Fizz', 22, 23, 'Fizz', 'Buzz', 26, 'Fizz', 28, 29, 'FizzBuzz', 31, 32, 'Fizz', 34, 'Buzz', 'Fizz', 37, 38, 'Fizz', 'Buzz', 41, 'Fizz', 43, 44, 'FizzBuzz', 46, 47, 'Fizz', 49, 'Buzz']\n"
     ]
    }
   ],
   "source": [
    "#Write a Python program which iterates the integers from 1 to 50. For multiples of three print \"Fizz\" instead of the number and for the multiples of five print \"Buzz\". \n",
    "#For numbers which are multiples of both three and five print \"FizzBuzz\".\n",
    "\n",
    "lst=[]\n",
    "for i in range(0,51):\n",
    "    if (i % 3 == 0) & (i % 5 == 0):\n",
    "        lst.append('FizzBuzz')\n",
    "    elif i % 5 == 0:\n",
    "        lst.append('Buzz')\n",
    "    elif i % 3 == 0:\n",
    "        lst.append('Fizz')\n",
    "    else: lst.append(i)\n",
    "print(lst)"
   ]
  },
  {
   "cell_type": "code",
   "execution_count": 6,
   "metadata": {},
   "outputs": [
    {
     "name": "stdout",
     "output_type": "stream",
     "text": [
      " ***   \n",
      "*    * \n",
      "*    * \n",
      "*    * \n",
      "**** * \n",
      "*    * \n",
      "*    * \n",
      "\n"
     ]
    }
   ],
   "source": [
    "#Write a Python program to print alphabet pattern 'A'\n",
    "#  ***                                                                   \n",
    "# *   *                                                                  \n",
    "# *   *                                                                  \n",
    "# *****                                                                  \n",
    "# *   *                                                                  \n",
    "# *   *                                                                  \n",
    "# *   *\n",
    "result_str = ''\n",
    "for row in range(0,7):\n",
    "    for column in range(0,7):\n",
    "        if ((column == 0 or column == 5) and (row != 0)) or ((row == 0 or row ==4) and (column >0 and column <4)):\n",
    "            result_str = result_str + \"*\"\n",
    "        else: result_str = result_str + ' '\n",
    "    result_str = result_str + '\\n'\n",
    "print(result_str)\n"
   ]
  },
  {
   "cell_type": "code",
   "execution_count": 10,
   "metadata": {},
   "outputs": [
    {
     "name": "stdout",
     "output_type": "stream",
     "text": [
      "*      \n",
      "*      \n",
      "*      \n",
      "*      \n",
      "*      \n",
      "*      \n",
      "*******\n",
      "\n"
     ]
    }
   ],
   "source": [
    "#Write a Python program to print alphabet pattern 'L'\n",
    "# *                                                                  \n",
    "# *                                                                     \n",
    "# *                                                                    \n",
    "# *                                                                  \n",
    "# *                                                                     \n",
    "# *                                                                     \n",
    "# *****\n",
    "result_str = ''\n",
    "for row in range(0,7):\n",
    "    for column in range(0,7):\n",
    "        if ((column == 0) and (row != 7)) or ((row == 6)):\n",
    "            result_str = result_str + \"*\"\n",
    "        else: result_str = result_str + ' '\n",
    "    result_str = result_str + '\\n'\n",
    "print(result_str)"
   ]
  },
  {
   "cell_type": "code",
   "execution_count": 29,
   "metadata": {},
   "outputs": [
    {
     "name": "stdout",
     "output_type": "stream",
     "text": [
      " ***   \n",
      "*   *  \n",
      "*      \n",
      "* ***  \n",
      "*   *  \n",
      "*   *  \n",
      " ***   \n",
      "\n"
     ]
    }
   ],
   "source": [
    "#Write a Python program to print alphabet pattern 'G'\n",
    "\n",
    "result_str = ''\n",
    "for row in range(0,7):\n",
    "    for column in range(0,7):\n",
    "        if ((column == 0) and (row > 0 and row < 6)) or ((column == 4) and ((row > 0 and row < 6 )and row != 2)) or ((row == 0 or row == 6) and (column > 0 and column < 4)) or ((row == 3)and (column >0 and column <4 and column != 1)):\n",
    "            result_str = result_str + \"*\"\n",
    "        else: result_str = result_str + ' '\n",
    "    result_str = result_str + '\\n'\n",
    "print(result_str)\n"
   ]
  }
 ],
 "metadata": {
  "interpreter": {
   "hash": "b21c3a0c3eadb4869106f89604f8f011327b0803010079f4fb1b7782136b1aa2"
  },
  "kernelspec": {
   "display_name": "Python 3.9.7",
   "language": "python",
   "name": "python3"
  },
  "language_info": {
   "codemirror_mode": {
    "name": "ipython",
    "version": 3
   },
   "file_extension": ".py",
   "mimetype": "text/x-python",
   "name": "python",
   "nbconvert_exporter": "python",
   "pygments_lexer": "ipython3",
   "version": "3.9.7"
  },
  "orig_nbformat": 4
 },
 "nbformat": 4,
 "nbformat_minor": 2
}
